{
 "cells": [
  {
   "cell_type": "markdown",
   "metadata": {},
   "source": [
    "# Importing Libraries"
   ]
  },
  {
   "cell_type": "code",
   "execution_count": 1,
   "metadata": {},
   "outputs": [],
   "source": [
    "import pandas as pd\n",
    "import numpy as np\n",
    "import matplotlib.pyplot as plt\n",
    "import seaborn as sns\n",
    "from sklearn.preprocessing import LabelEncoder, StandardScaler\n",
    "from sklearn.model_selection import train_test_split\n",
    "from sklearn.linear_model import LogisticRegression\n",
    "from sklearn.metrics import confusion_matrix, accuracy_score, precision_score, f1_score, r2_score, mean_squared_error"
   ]
  },
  {
   "cell_type": "markdown",
   "metadata": {},
   "source": [
    "# Data preperation \n",
    "\n",
    "Step 1: Read the Excel file\n",
    "Step 2: Split the first column by commas\n",
    "Step 3: Set the first row as header\n",
    "Use first row as header\n",
    "Drop the header row from data\n",
    "Step 4: Reset index for clean dataframe\n",
    "Step 5: Preview the cleaned dataframe"
   ]
  },
  {
   "cell_type": "code",
   "execution_count": 2,
   "metadata": {},
   "outputs": [
    {
     "name": "stdout",
     "output_type": "stream",
     "text": [
      "Preview of the cleaned dataframe:\n",
      "0   User ID  Gender Age EstimatedSalary Purchased\n",
      "0  15624510    Male  19           19000         0\n",
      "1  15810944    Male  35           20000         0\n",
      "2  15668575  Female  26           43000         0\n",
      "3  15603246  Female  27           57000         0\n",
      "4  15804002    Male  19           76000         0\n"
     ]
    }
   ],
   "source": [
    "\n",
    "df_raw = pd.read_excel(r\"D:\\Downloads\\Social_Network_Ads(1).xls\", header=None)\n",
    "df = df_raw[0].str.split(',', expand=True)\n",
    "df.columns = df.iloc[0]  \n",
    "df = df[1:]  \n",
    "df.reset_index(drop=True, inplace=True)\n",
    "\n",
    "print(\"Preview of the cleaned dataframe:\")\n",
    "print(df.head())"
   ]
  },
  {
   "cell_type": "markdown",
   "metadata": {},
   "source": [
    "# Data exploration\n",
    "Get count of each type to check for balance"
   ]
  },
  {
   "cell_type": "code",
   "execution_count": 3,
   "metadata": {},
   "outputs": [
    {
     "name": "stdout",
     "output_type": "stream",
     "text": [
      "Purchased\n",
      "0    257\n",
      "1    143\n",
      "Name: count, dtype: int64\n"
     ]
    }
   ],
   "source": [
    "class_counts = df['Purchased'].value_counts()\n",
    "print(class_counts)"
   ]
  },
  {
   "cell_type": "markdown",
   "metadata": {},
   "source": [
    "# Calculate percentages\n",
    "# since its not 70/30 its not considered imbalanced\n"
   ]
  },
  {
   "cell_type": "code",
   "execution_count": 4,
   "metadata": {},
   "outputs": [
    {
     "name": "stdout",
     "output_type": "stream",
     "text": [
      "\n",
      "Class percentages: 64.25% / 35.75%\n"
     ]
    }
   ],
   "source": [
    "\n",
    "class_percentages = df['Purchased'].value_counts(normalize=True) * 100\n",
    "print(f\"\\nClass percentages: {class_percentages.values[0]:.2f}% / {class_percentages.values[1]:.2f}%\")\n"
   ]
  },
  {
   "cell_type": "markdown",
   "metadata": {},
   "source": [
    "# Check dataframe info"
   ]
  },
  {
   "cell_type": "code",
   "execution_count": 5,
   "metadata": {},
   "outputs": [
    {
     "name": "stdout",
     "output_type": "stream",
     "text": [
      "\n",
      "Dataframe information:\n",
      "<class 'pandas.core.frame.DataFrame'>\n",
      "RangeIndex: 400 entries, 0 to 399\n",
      "Data columns (total 5 columns):\n",
      " #   Column           Non-Null Count  Dtype \n",
      "---  ------           --------------  ----- \n",
      " 0   User ID          400 non-null    object\n",
      " 1   Gender           400 non-null    object\n",
      " 2   Age              400 non-null    object\n",
      " 3   EstimatedSalary  400 non-null    object\n",
      " 4   Purchased        400 non-null    object\n",
      "dtypes: object(5)\n",
      "memory usage: 15.8+ KB\n"
     ]
    }
   ],
   "source": [
    "\n",
    "print(\"\\nDataframe information:\")\n",
    "df.info()"
   ]
  },
  {
   "cell_type": "markdown",
   "metadata": {},
   "source": [
    "# Check for missing values"
   ]
  },
  {
   "cell_type": "code",
   "execution_count": 6,
   "metadata": {},
   "outputs": [
    {
     "name": "stdout",
     "output_type": "stream",
     "text": [
      "\n",
      "Checking for missing values:\n",
      "0\n",
      "User ID            0\n",
      "Gender             0\n",
      "Age                0\n",
      "EstimatedSalary    0\n",
      "Purchased          0\n",
      "dtype: int64\n"
     ]
    }
   ],
   "source": [
    "\n",
    "\n",
    "print(\"\\nChecking for missing values:\")\n",
    "print(df.isnull().sum())"
   ]
  },
  {
   "cell_type": "markdown",
   "metadata": {},
   "source": [
    "# Check for duplicates"
   ]
  },
  {
   "cell_type": "code",
   "execution_count": 7,
   "metadata": {},
   "outputs": [
    {
     "name": "stdout",
     "output_type": "stream",
     "text": [
      "\n",
      "Checking for duplicates:\n",
      "Number of duplicate rows: 0\n"
     ]
    }
   ],
   "source": [
    "\n",
    "\n",
    "print(\"\\nChecking for duplicates:\")\n",
    "print(f\"Number of duplicate rows: {df.duplicated().sum()}\")"
   ]
  },
  {
   "cell_type": "markdown",
   "metadata": {},
   "source": [
    "# Drop the User ID column as it is not relevant for analysis\n",
    "# Convert numeric columns to appropriate data types\n",
    "# This avoids potential errors in analysis and ensures proper calculations\n"
   ]
  },
  {
   "cell_type": "code",
   "execution_count": 8,
   "metadata": {},
   "outputs": [],
   "source": [
    "\n",
    "df = df.drop('User ID', axis=1)\n",
    "cols = ['Age', 'EstimatedSalary', 'Purchased']\n",
    "df[cols] = df[cols].apply(pd.to_numeric)"
   ]
  },
  {
   "cell_type": "markdown",
   "metadata": {},
   "source": [
    "# Verify the data types after conversion"
   ]
  },
  {
   "cell_type": "code",
   "execution_count": 9,
   "metadata": {},
   "outputs": [
    {
     "name": "stdout",
     "output_type": "stream",
     "text": [
      "\n",
      "Dataframe data types after conversion:\n",
      "0\n",
      "Gender             object\n",
      "Age                 int64\n",
      "EstimatedSalary     int64\n",
      "Purchased           int64\n",
      "dtype: object\n"
     ]
    }
   ],
   "source": [
    "\n",
    "print(\"\\nDataframe data types after conversion:\")\n",
    "print(df.dtypes)\n"
   ]
  },
  {
   "cell_type": "markdown",
   "metadata": {},
   "source": [
    "# Encode categorical variables (Gender: Female=0, Male=1)\n",
    "# Label encoding is appropriate here as gender is a binary categorical feature"
   ]
  },
  {
   "cell_type": "code",
   "execution_count": 10,
   "metadata": {},
   "outputs": [
    {
     "name": "stdout",
     "output_type": "stream",
     "text": [
      "\n",
      "Dataframe after encoding Gender (0=Female, 1=Male):\n",
      "0  Gender  Age  EstimatedSalary  Purchased\n",
      "0       1   19            19000          0\n",
      "1       1   35            20000          0\n",
      "2       0   26            43000          0\n",
      "3       0   27            57000          0\n",
      "4       1   19            76000          0\n"
     ]
    }
   ],
   "source": [
    "\n",
    "le = LabelEncoder()\n",
    "df['Gender'] = le.fit_transform(df['Gender'])\n",
    "\n",
    "\n",
    "print(\"\\nDataframe after encoding Gender (0=Female, 1=Male):\")\n",
    "print(df.head())"
   ]
  },
  {
   "cell_type": "markdown",
   "metadata": {},
   "source": [
    "# Display descriptive statistics to understand data distribution\n"
   ]
  },
  {
   "cell_type": "code",
   "execution_count": 11,
   "metadata": {},
   "outputs": [
    {
     "name": "stdout",
     "output_type": "stream",
     "text": [
      "\n",
      "Descriptive statistics:\n",
      "0          Gender         Age  EstimatedSalary   Purchased\n",
      "count  400.000000  400.000000       400.000000  400.000000\n",
      "mean     0.490000   37.655000     69742.500000    0.357500\n",
      "std      0.500526   10.482877     34096.960282    0.479864\n",
      "min      0.000000   18.000000     15000.000000    0.000000\n",
      "10%      0.000000   24.000000     26000.000000    0.000000\n",
      "25%      0.000000   29.750000     43000.000000    0.000000\n",
      "50%      0.000000   37.000000     70000.000000    0.000000\n",
      "75%      1.000000   46.000000     88000.000000    1.000000\n",
      "90%      1.000000   52.100000    122000.000000    1.000000\n",
      "99%      1.000000   60.000000    148010.000000    1.000000\n",
      "max      1.000000   60.000000    150000.000000    1.000000\n"
     ]
    }
   ],
   "source": [
    "\n",
    "\n",
    "print(\"\\nDescriptive statistics:\")\n",
    "print(df.describe(percentiles=[.1, .25, .5, .75, .9, .99]))\n",
    "\n"
   ]
  },
  {
   "cell_type": "markdown",
   "metadata": {},
   "source": [
    "# Visualize correlation matrix\n",
    "# to see which features are correlated with each other\n"
   ]
  },
  {
   "cell_type": "code",
   "execution_count": 12,
   "metadata": {},
   "outputs": [
    {
     "data": {
      "image/png": "[encoded data removed]",
      "text/plain": [
       "<Figure size 1000x800 with 2 Axes>"
      ]
     },
     "metadata": {},
     "output_type": "display_data"
    }
   ],
   "source": [
    "\n",
    "correlation_matrix = df.corr()\n",
    "plt.figure(figsize=(10, 8))\n",
    "sns.heatmap(correlation_matrix, annot=True, cmap='coolwarm', fmt='.2f')\n",
    "plt.title('Correlation Matrix')\n",
    "plt.show()\n"
   ]
  },
  {
   "cell_type": "markdown",
   "metadata": {},
   "source": [
    "# Prepare features and target variables\n",
    "# Using all relevant features including Gender"
   ]
  },
  {
   "cell_type": "code",
   "execution_count": 13,
   "metadata": {},
   "outputs": [],
   "source": [
    "\n",
    "X = df[['Age', 'EstimatedSalary', 'Gender']]\n",
    "Y = df['Purchased'] "
   ]
  },
  {
   "cell_type": "markdown",
   "metadata": {},
   "source": [
    "# Split data into training and test sets\n",
    "# split: 80% training, 20% test"
   ]
  },
  {
   "cell_type": "code",
   "execution_count": 14,
   "metadata": {},
   "outputs": [
    {
     "name": "stdout",
     "output_type": "stream",
     "text": [
      "\n",
      "Data split sizes:\n",
      "Training set: (320, 3)\n",
      "Test set: (80, 3)\n"
     ]
    }
   ],
   "source": [
    "\n",
    "X_Train, X_Test, Y_Train, Y_Test = train_test_split(X, Y, test_size=0.2, random_state=0)\n",
    "\n",
    "print(\"\\nData split sizes:\")\n",
    "print(f\"Training set: {X_Train.shape}\")\n",
    "print(f\"Test set: {X_Test.shape}\")"
   ]
  },
  {
   "cell_type": "markdown",
   "metadata": {},
   "source": [
    "# Feature scaling\n",
    "#  Each dataset should be scaled using the fit from the training data to prevent data leakage\n",
    " # Fit and transform training data\n",
    " # Only transform test data using training fit\n",
    "# This prevents data leakage. we don’t want our model to \"see\" statistics from the test set during training"
   ]
  },
  {
   "cell_type": "code",
   "execution_count": 15,
   "metadata": {},
   "outputs": [],
   "source": [
    "\n",
    "scaler = StandardScaler()\n",
    "X_Train_scaled = scaler.fit_transform(X_Train) \n",
    "X_Test_scaled = scaler.transform(X_Test)  \n"
   ]
  },
  {
   "cell_type": "code",
   "execution_count": null,
   "metadata": {},
   "outputs": [],
   "source": [
    "# Create and train the logistic regression model\n",
    "# Using default settings with L2 regularization (C=1.0)\n",
    "# random_state=0 (or any number) to get the same results every time you run the model.\n",
    "classifier = LogisticRegression(random_state=0)  \n",
    "classifier.fit(X_Train_scaled, Y_Train)\n",
    "# Then Generate predictions\n",
    "\n",
    "y_pred_train = classifier.predict(X_Train_scaled)\n",
    "y_pred_test = classifier.predict(X_Test_scaled)"
   ]
  },
  {
   "cell_type": "markdown",
   "metadata": {},
   "source": [
    "# Evaluate model performance\n",
    "# model does better on the test set than on the training set It  indicate:\n",
    "# Good generalization"
   ]
  },
  {
   "cell_type": "code",
   "execution_count": 23,
   "metadata": {},
   "outputs": [
    {
     "name": "stdout",
     "output_type": "stream",
     "text": [
      "\n",
      "===== MODEL EVALUATION =====\n",
      "\n",
      "TRAINING SET PERFORMANCE:\n",
      "Accuracy: 0.8281\n",
      "Precision: 0.8235\n",
      "F1 Score: 0.7534\n",
      "\n",
      "TEST SET PERFORMANCE:\n",
      "Accuracy: 0.9250\n",
      "Precision: 0.9000\n",
      "F1 Score: 0.8571\n"
     ]
    }
   ],
   "source": [
    "\n",
    "print(\"\\n===== MODEL EVALUATION =====\")\n",
    "\n",
    "# Training set metrics\n",
    "print(\"\\nTRAINING SET PERFORMANCE:\")\n",
    "print(f\"Accuracy: {accuracy_score(Y_Train, y_pred_train):.4f}\")\n",
    "print(f\"Precision: {precision_score(Y_Train, y_pred_train):.4f}\")\n",
    "print(f\"F1 Score: {f1_score(Y_Train, y_pred_train):.4f}\")\n",
    "\n",
    "\n",
    "# Test set metrics\n",
    "print(\"\\nTEST SET PERFORMANCE:\")\n",
    "print(f\"Accuracy: {accuracy_score(Y_Test, y_pred_test):.4f}\")\n",
    "print(f\"Precision: {precision_score(Y_Test, y_pred_test):.4f}\")\n",
    "print(f\"F1 Score: {f1_score(Y_Test, y_pred_test):.4f}\")\n"
   ]
  },
  {
   "cell_type": "code",
   "execution_count": 26,
   "metadata": {},
   "outputs": [
    {
     "name": "stdout",
     "output_type": "stream",
     "text": [
      "0.825\n"
     ]
    },
    {
     "name": "stderr",
     "output_type": "stream",
     "text": [
      "d:\\projects\\anaconda3\\envs\\tf39\\lib\\site-packages\\sklearn\\linear_model\\_logistic.py:465: ConvergenceWarning: lbfgs failed to converge (status=1):\n",
      "STOP: TOTAL NO. of ITERATIONS REACHED LIMIT.\n",
      "\n",
      "Increase the number of iterations (max_iter) or scale the data as shown in:\n",
      "    https://scikit-learn.org/stable/modules/preprocessing.html\n",
      "Please also refer to the documentation for alternative solver options:\n",
      "    https://scikit-learn.org/stable/modules/linear_model.html#logistic-regression\n",
      "  n_iter_i = _check_optimize_result(\n",
      "d:\\projects\\anaconda3\\envs\\tf39\\lib\\site-packages\\sklearn\\linear_model\\_logistic.py:465: ConvergenceWarning: lbfgs failed to converge (status=1):\n",
      "STOP: TOTAL NO. of ITERATIONS REACHED LIMIT.\n",
      "\n",
      "Increase the number of iterations (max_iter) or scale the data as shown in:\n",
      "    https://scikit-learn.org/stable/modules/preprocessing.html\n",
      "Please also refer to the documentation for alternative solver options:\n",
      "    https://scikit-learn.org/stable/modules/linear_model.html#logistic-regression\n",
      "  n_iter_i = _check_optimize_result(\n",
      "d:\\projects\\anaconda3\\envs\\tf39\\lib\\site-packages\\sklearn\\linear_model\\_logistic.py:465: ConvergenceWarning: lbfgs failed to converge (status=1):\n",
      "STOP: TOTAL NO. of ITERATIONS REACHED LIMIT.\n",
      "\n",
      "Increase the number of iterations (max_iter) or scale the data as shown in:\n",
      "    https://scikit-learn.org/stable/modules/preprocessing.html\n",
      "Please also refer to the documentation for alternative solver options:\n",
      "    https://scikit-learn.org/stable/modules/linear_model.html#logistic-regression\n",
      "  n_iter_i = _check_optimize_result(\n",
      "d:\\projects\\anaconda3\\envs\\tf39\\lib\\site-packages\\sklearn\\linear_model\\_logistic.py:465: ConvergenceWarning: lbfgs failed to converge (status=1):\n",
      "STOP: TOTAL NO. of ITERATIONS REACHED LIMIT.\n",
      "\n",
      "Increase the number of iterations (max_iter) or scale the data as shown in:\n",
      "    https://scikit-learn.org/stable/modules/preprocessing.html\n",
      "Please also refer to the documentation for alternative solver options:\n",
      "    https://scikit-learn.org/stable/modules/linear_model.html#logistic-regression\n",
      "  n_iter_i = _check_optimize_result(\n",
      "d:\\projects\\anaconda3\\envs\\tf39\\lib\\site-packages\\sklearn\\linear_model\\_logistic.py:465: ConvergenceWarning: lbfgs failed to converge (status=1):\n",
      "STOP: TOTAL NO. of ITERATIONS REACHED LIMIT.\n",
      "\n",
      "Increase the number of iterations (max_iter) or scale the data as shown in:\n",
      "    https://scikit-learn.org/stable/modules/preprocessing.html\n",
      "Please also refer to the documentation for alternative solver options:\n",
      "    https://scikit-learn.org/stable/modules/linear_model.html#logistic-regression\n",
      "  n_iter_i = _check_optimize_result(\n"
     ]
    }
   ],
   "source": [
    "from sklearn.model_selection import cross_val_score\n",
    "print(cross_val_score(classifier,X,Y,cv=10).mean())"
   ]
  },
  {
   "cell_type": "markdown",
   "metadata": {},
   "source": [
    "# Create and visualize confusion matrix for validation set"
   ]
  },
  {
   "cell_type": "code",
   "execution_count": 18,
   "metadata": {},
   "outputs": [
    {
     "data": {
      "image/png": "[encoded data removed]",
      "text/plain": [
       "<Figure size 800x600 with 1 Axes>"
      ]
     },
     "metadata": {},
     "output_type": "display_data"
    }
   ],
   "source": [
    "\n",
    "cm_val = confusion_matrix(Y_Test, y_pred_test)\n",
    "plt.figure(figsize=(8, 6))\n",
    "sns.heatmap(cm_val, annot=True, fmt=\"d\", cmap=\"Blues\", cbar=False,\n",
    "            xticklabels=['Predicted Negative', 'Predicted Positive'],\n",
    "            yticklabels=['Actual Negative', 'Actual Positive'])\n",
    "plt.xlabel('Predicted')\n",
    "plt.ylabel('Actual')\n",
    "plt.title('Confusion Matrix (Test Set)')\n",
    "plt.show()\n"
   ]
  },
  {
   "cell_type": "markdown",
   "metadata": {},
   "source": [
    "📊 Model Findings\n",
    "\n",
    "1. Model Performance**:\n",
    "- Training Accuracy**: 82.50%\n",
    "- Test Accuracy**: 91.25%\n",
    "- Precision (Test Set): 89.47%\n",
    "- F1 Score (Test Set): 82.93%\n",
    "- The model performs well on both training and test data, with no overfitting detected.\n",
    "\n",
    "2. :\n",
    "- strong positive relationship between age and the target of making a purchase.\n",
    "\n",
    "\n"
   ]
  }
 ],
 "metadata": {
  "kernelspec": {
   "display_name": "tf39",
   "language": "python",
   "name": "python3"
  },
  "language_info": {
   "codemirror_mode": {
    "name": "ipython",
    "version": 3
   },
   "file_extension": ".py",
   "mimetype": "text/x-python",
   "name": "python",
   "nbconvert_exporter": "python",
   "pygments_lexer": "ipython3",
   "version": "3.9.21"
  }
 },
 "nbformat": 4,
 "nbformat_minor": 2
}
